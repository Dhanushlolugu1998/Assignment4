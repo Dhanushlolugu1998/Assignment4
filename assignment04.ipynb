{
 "cells": [
  {
   "cell_type": "code",
   "execution_count": 1,
   "id": "aaff9cb1",
   "metadata": {},
   "outputs": [
    {
     "name": "stdout",
     "output_type": "stream",
     "text": [
      "Sample input: 10\n",
      "Sample output: 35\n"
     ]
    }
   ],
   "source": [
    "#Write a Python program to create a lambda function that adds 25 to a given number passed in as an argument.\n",
    "\n",
    "adding_25 = lambda x: x + 25\n",
    "number = 10\n",
    "result = adding_25(number)\n",
    "print(\"Sample input:\", number)\n",
    "print(\"Sample output:\", result)"
   ]
  },
  {
   "cell_type": "code",
   "execution_count": 2,
   "id": "d1b8faf9",
   "metadata": {},
   "outputs": [
    {
     "name": "stdout",
     "output_type": "stream",
     "text": [
      "Sample list: [1, 2, 3, 4, 5, 6, 7]\n",
      "Triple of list numbers:\n",
      "[3, 6, 9, 12, 15, 18, 21]\n"
     ]
    }
   ],
   "source": [
    "#Write a Python program to triple all numbers of a given list of integers. Use Python map.\n",
    "\n",
    "def triple_number(x):\n",
    "    return x * 3\n",
    "numbers = [1, 2, 3, 4, 5, 6, 7]\n",
    "tripled_numbers = list(map(triple_number, numbers))\n",
    "print(\"Sample list:\", numbers)\n",
    "print(\"Triple of list numbers:\")\n",
    "print(tripled_numbers)"
   ]
  },
  {
   "cell_type": "code",
   "execution_count": 4,
   "id": "43f5c93c",
   "metadata": {},
   "outputs": [
    {
     "name": "stdout",
     "output_type": "stream",
     "text": [
      "Sample list: [4, 5, 2, 9]\n",
      "Square the elements of the list:\n",
      "[16, 25, 4, 81]\n"
     ]
    }
   ],
   "source": [
    "#Write a Python program to square the elements of a list using map() function.\n",
    "\n",
    "def square(x):\n",
    "    return x ** 2\n",
    "numbers = [4, 5, 2, 9]\n",
    "squared_numbers = list(map(square, numbers))\n",
    "print(\"Sample list:\", numbers)\n",
    "print(\"Square the elements of the list:\")\n",
    "print(squared_numbers)"
   ]
  },
  {
   "cell_type": "code",
   "execution_count": null,
   "id": "ab194a8e",
   "metadata": {},
   "outputs": [],
   "source": []
  }
 ],
 "metadata": {
  "kernelspec": {
   "display_name": "Python 3 (ipykernel)",
   "language": "python",
   "name": "python3"
  },
  "language_info": {
   "codemirror_mode": {
    "name": "ipython",
    "version": 3
   },
   "file_extension": ".py",
   "mimetype": "text/x-python",
   "name": "python",
   "nbconvert_exporter": "python",
   "pygments_lexer": "ipython3",
   "version": "3.10.9"
  }
 },
 "nbformat": 4,
 "nbformat_minor": 5
}
